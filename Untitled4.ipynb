{
 "cells": [
  {
   "cell_type": "raw",
   "id": "12b194f0-018a-4e74-bae4-0683a51a95e6",
   "metadata": {},
   "source": [
    "NAME- AASHI GAUTAM                                                                                    DSAI STUDENT- @PWSKILLS "
   ]
  },
  {
   "cell_type": "raw",
   "id": "5a260e14-8b76-4df8-9b7b-9760a901c975",
   "metadata": {},
   "source": [
    "                                             STATISTICS ADVANCE PART-1 "
   ]
  },
  {
   "cell_type": "raw",
   "id": "b480a78a-518d-4cee-a5b1-7112967fc3d4",
   "metadata": {},
   "source": [
    "**1- What is a random variable in probability theory?\n",
    "Ans- A random variable is a numerical outcome of a random process. It assigns numerical values to the outcomes of a random experiment and can be either discrete or continuous."
   ]
  },
  {
   "cell_type": "raw",
   "id": "d37d7132-fed9-4c62-bff0-2aa0c9e2c1d4",
   "metadata": {},
   "source": [
    "2- What are the types of random variables?\n",
    "Ans- Discrete Random Variable: Takes countable values (e.g., number of heads in coin tosses).\n",
    "Continuous Random Variable: Takes any value within a range (e.g., height, weight)."
   ]
  },
  {
   "cell_type": "raw",
   "id": "a646d6c3-9545-48ea-b873-3e75e0665d63",
   "metadata": {},
   "source": [
    "3- What is the difference between discrete and continuous distributions?\n",
    "Ans- Discrete Distribution: Deals with countable outcomes (e.g., binomial, Poisson).\n",
    "Continuous Distribution: Deals with measurable outcomes over an interval (e.g., normal, uniform)."
   ]
  },
  {
   "cell_type": "raw",
   "id": "08290828-e368-431a-98aa-392bdca70374",
   "metadata": {},
   "source": [
    "4- What are probability distribution functions (PDF)?\n",
    "Ans- A Probability Distribution Function (PDF) describes the likelihood of a random variable taking a particular value. For continuous variables, it is a curve that defines the probability density."
   ]
  },
  {
   "cell_type": "raw",
   "id": "351f7009-b7dc-4057-a1cc-4511f3789122",
   "metadata": {},
   "source": [
    "5- How do cumulative distribution functions (CDF) differ from probability distribution functions (PDF)?\n",
    "Ans- PDF gives the probability density at a point.\n",
    "CDF gives the cumulative probability up to a point. It is the integral of the PDF."
   ]
  },
  {
   "cell_type": "raw",
   "id": "9034ed91-2346-4869-808c-a03b3fb52ec3",
   "metadata": {},
   "source": [
    "6- What is a discrete uniform distribution?\n",
    "Ans- A discrete uniform distribution assigns equal probabilities to all outcomes in a finite set. Example: Rolling a fair six-sided die."
   ]
  },
  {
   "cell_type": "raw",
   "id": "e7a8b289-517b-4a7a-b786-76ee95237fc8",
   "metadata": {},
   "source": [
    "7- What are the key properties of a Bernoulli distribution?\n",
    "Ans- Only two outcomes: success (1) and failure (0).\n",
    "Parameter p: Probability of success.\n",
    "Mean = p; Variance = p(1 - p)."
   ]
  },
  {
   "cell_type": "raw",
   "id": "4ca98a08-06d1-43f2-b08e-4bc94c7ddeac",
   "metadata": {},
   "source": [
    "8- What is the binomial distribution, and how is it used in probability?\n",
    "Ans- The binomial distribution models the number of successes in n independent Bernoulli trials. Used to analyze binary outcomes like pass/fail, yes/no."
   ]
  },
  {
   "cell_type": "raw",
   "id": "92d084a5-9d89-4182-982c-526daafa49dc",
   "metadata": {},
   "source": [
    "9- What is the Poisson distribution and where is it applied?\n",
    "Ans- The Poisson distribution models the number of events occurring in a fixed interval of time or space, assuming constant mean rate. Used in call centers, traffic flow, etc."
   ]
  },
  {
   "cell_type": "raw",
   "id": "35d06700-8f0f-433e-9bb2-d1c03e818458",
   "metadata": {},
   "source": [
    "10- What is a continuous uniform distribution?\n",
    "Ans- A continuous uniform distribution has equal probability for all values within a given range \n",
    "[𝑎,𝑏].The PDF is constant."
   ]
  },
  {
   "cell_type": "raw",
   "id": "782df04f-7c8b-4a31-bb39-1b19e492d4d7",
   "metadata": {},
   "source": [
    "11- What are the characteristics of a normal distribution?\n",
    "Ans- Bell-shaped and symmetric about the mean.\n",
    "Mean = Median = Mode.\n",
    "Fully described by mean (μ) and standard deviation (σ).\n",
    "68-95-99.7 rule apples for standard deviations."
   ]
  },
  {
   "cell_type": "raw",
   "id": "ce90fe08-ccc0-4c26-84f6-3f329f3dbf19",
   "metadata": {},
   "source": [
    "12- What is the standard normal distribution, and why is it important?\n",
    "Ans- A standard normal distribution is a normal distribution with mean 0 and standard deviation 1. It is crucial for Z-score calculations and standardizing data."
   ]
  },
  {
   "cell_type": "raw",
   "id": "f6881ef0-90fd-4538-a6c2-60a6ed240ab4",
   "metadata": {},
   "source": [
    "13- What is the Central Limit Theorem (CLT), and why is it critical in statistics?\n",
    "Ans- CLT states that the sampling distribution of the sample mean approaches a normal distribution as the sample size increases, regardless of the population’s distribution. It allows the use of normal-based inference methods."
   ]
  },
  {
   "cell_type": "raw",
   "id": "373526bf-f7b6-44cd-b43a-d26fa2b80419",
   "metadata": {},
   "source": [
    "14- How does the Central Limit Theorem relate to the normal distribution?\n",
    "Ans- CLT justifies the use of the normal distribution for analyzing sample means and proportions when the sample size is large, even if the population is not normally distributed."
   ]
  },
  {
   "cell_type": "raw",
   "id": "57f0da39-c59c-44a8-95e1-ddee98c1d549",
   "metadata": {},
   "source": [
    "15- What is the application of Z statistics in hypothesis testing?\n",
    "Ans- Z statistics help determine how far a sample mean is from the population mean, under the null hypothesis. It’s used to calculate p-values and test significance."
   ]
  },
  {
   "cell_type": "raw",
   "id": "923acd10-4ea2-46df-8147-5b7f4baa71e7",
   "metadata": {},
   "source": [
    "16- How do you calculate a Z-score, and what does it represent?\n",
    "Ans- Z = (X - μ) / σ\n",
    "It represents how many standard deviations a value X is from the mean μ. It standardizes values for comparison."
   ]
  },
  {
   "cell_type": "raw",
   "id": "1bfb7837-a5e5-4487-bfa3-c6132cfa9d91",
   "metadata": {},
   "source": [
    "17- What are point estimates and interval estimates in statistics?\n",
    "Ans- Point Estimate: Single value estimation (e.g., sample mean).\n",
    "Interval Estimate: Range of values (e.g., confidence interval) within which the parameter is expected to lie."
   ]
  },
  {
   "cell_type": "raw",
   "id": "4d6411e5-7bb8-4cfd-b422-51f994bdc108",
   "metadata": {},
   "source": [
    "18- What is the significance of confidence intervals in statistical analysis?\n",
    "Ans- Confidence intervals provide a range of plausible values for a parameter with a certain level of confidence (e.g., 95%), adding credibility to the estimation."
   ]
  },
  {
   "cell_type": "raw",
   "id": "3e9b5370-0839-4046-9178-7768dd867ad5",
   "metadata": {},
   "source": [
    "19- What is the relationship between a Z-score and a confidence interval?\n",
    "Ans- Z-scores determine the margin of error in confidence intervals. For example, a Z-score of 1.96 corresponds to a 95% confidence interval in normal distribution."
   ]
  },
  {
   "cell_type": "raw",
   "id": "4b68520b-3b78-4ded-852d-22b827ce6e97",
   "metadata": {},
   "source": [
    "20- How are Z-scores used to compare different distributions?\n",
    "Ans- Z-scores standardize different data sets, enabling comparison by expressing values in terms of standard deviations from the mean."
   ]
  },
  {
   "cell_type": "raw",
   "id": "924803b4-6e4b-4259-bfa8-fcf28d0ef95f",
   "metadata": {},
   "source": [
    "21- What are the assumptions for applying the Central Limit Theorem?\n",
    "Ans- Random sampling.\n",
    "Independent observations.\n",
    "Sample size should be sufficiently large (n ≥ 30 is common rule).\n",
    "Finite population variance."
   ]
  },
  {
   "cell_type": "raw",
   "id": "160a9994-f88f-4be6-9614-08182beb7b41",
   "metadata": {},
   "source": [
    "22- What is the concept of expected value in a probability distribution?\n",
    "Ans- The expected value is the long-term average or mean of random variable outcomes weighted by their probabilities."
   ]
  },
  {
   "cell_type": "raw",
   "id": "bc62d27e-bfdf-441a-a30f-6e2566de07b6",
   "metadata": {},
   "source": [
    "23- How does a probability distribution relate to the expected outcome of a random variable?\n",
    "Ans- The probability distribution outlines all possible values and their likelihoods, and the expected outcome is essentially the weighted average (mean) based on that distribution."
   ]
  },
  {
   "cell_type": "code",
   "execution_count": null,
   "id": "bb52ab62-e4d3-4db1-8f58-6af2b4cf73a7",
   "metadata": {},
   "outputs": [],
   "source": []
  },
  {
   "cell_type": "code",
   "execution_count": null,
   "id": "7ad383e8-00ee-4c9a-bbc8-b22ec699b564",
   "metadata": {},
   "outputs": [],
   "source": []
  },
  {
   "cell_type": "code",
   "execution_count": null,
   "id": "6ceafc0a-489b-4934-9b3a-82f5fe80debf",
   "metadata": {},
   "outputs": [],
   "source": []
  },
  {
   "cell_type": "code",
   "execution_count": null,
   "id": "4db8743f-381b-4a1d-812e-5beb47755d0b",
   "metadata": {},
   "outputs": [],
   "source": []
  },
  {
   "cell_type": "code",
   "execution_count": null,
   "id": "947f0385-c029-4dac-86b6-3f43023edaf6",
   "metadata": {},
   "outputs": [],
   "source": []
  },
  {
   "cell_type": "code",
   "execution_count": null,
   "id": "81b0fc05-aa27-4509-a0e7-7a1b42446b6d",
   "metadata": {},
   "outputs": [],
   "source": []
  },
  {
   "cell_type": "code",
   "execution_count": null,
   "id": "7abf9756-ed55-4937-a027-ab90bb65d0c4",
   "metadata": {},
   "outputs": [],
   "source": []
  },
  {
   "cell_type": "code",
   "execution_count": null,
   "id": "8d994650-a5d9-4fdd-8b2c-21769e9daddc",
   "metadata": {},
   "outputs": [],
   "source": []
  },
  {
   "cell_type": "code",
   "execution_count": null,
   "id": "1b11c5a5-134a-4e4e-bcfd-96292d7bc1b6",
   "metadata": {},
   "outputs": [],
   "source": []
  },
  {
   "cell_type": "code",
   "execution_count": null,
   "id": "47118f04-ce4c-478a-b223-07047df3f9d4",
   "metadata": {},
   "outputs": [],
   "source": []
  },
  {
   "cell_type": "code",
   "execution_count": null,
   "id": "289ba3da-2fe0-4ccf-be65-6f33b0f682fd",
   "metadata": {},
   "outputs": [],
   "source": []
  },
  {
   "cell_type": "code",
   "execution_count": null,
   "id": "97b145d1-bd08-4402-9640-868fb2fbc87a",
   "metadata": {},
   "outputs": [],
   "source": []
  },
  {
   "cell_type": "code",
   "execution_count": null,
   "id": "ee0de920-275f-4863-b1b3-a4ee64f65294",
   "metadata": {},
   "outputs": [],
   "source": []
  },
  {
   "cell_type": "code",
   "execution_count": null,
   "id": "e23b31c6-caf3-42b6-9489-877fe28ce2ca",
   "metadata": {},
   "outputs": [],
   "source": []
  }
 ],
 "metadata": {
  "kernelspec": {
   "display_name": "Python 3 (ipykernel)",
   "language": "python",
   "name": "python3"
  },
  "language_info": {
   "codemirror_mode": {
    "name": "ipython",
    "version": 3
   },
   "file_extension": ".py",
   "mimetype": "text/x-python",
   "name": "python",
   "nbconvert_exporter": "python",
   "pygments_lexer": "ipython3",
   "version": "3.12.7"
  }
 },
 "nbformat": 4,
 "nbformat_minor": 5
}
